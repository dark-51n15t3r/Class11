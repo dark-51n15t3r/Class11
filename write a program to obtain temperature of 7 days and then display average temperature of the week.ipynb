{
 "cells": [
  {
   "cell_type": "code",
   "execution_count": 1,
   "metadata": {},
   "outputs": [
    {
     "name": "stdout",
     "output_type": "stream",
     "text": [
      "enter temperature of monday:39\n",
      "enter temperature of tuesday:35\n",
      "enter temperature of wednesday:34\n",
      "enter temperature of thursday:36\n",
      "enter temperature of friday:38\n",
      "enter temperature of saturday:35\n",
      "enter temperature of sunday:33\n",
      "avg temperature of the week is 35.714285714285715\n"
     ]
    }
   ],
   "source": [
    "a = int(input(\"enter temperature of monday:\"))\n",
    "b = int(input(\"enter temperature of tuesday:\"))\n",
    "c = int(input(\"enter temperature of wednesday:\"))\n",
    "d = int(input(\"enter temperature of thursday:\"))\n",
    "e = int(input(\"enter temperature of friday:\"))\n",
    "f = int(input(\"enter temperature of saturday:\"))\n",
    "g = int(input(\"enter temperature of sunday:\"))\n",
    "print('avg temperature of the week is', (a+b+c+d+e+f+g)/7)"
   ]
  },
  {
   "cell_type": "code",
   "execution_count": null,
   "metadata": {},
   "outputs": [],
   "source": []
  }
 ],
 "metadata": {
  "kernelspec": {
   "display_name": "Python 3",
   "language": "python",
   "name": "python3"
  },
  "language_info": {
   "codemirror_mode": {
    "name": "ipython",
    "version": 3
   },
   "file_extension": ".py",
   "mimetype": "text/x-python",
   "name": "python",
   "nbconvert_exporter": "python",
   "pygments_lexer": "ipython3",
   "version": "3.8.3"
  }
 },
 "nbformat": 4,
 "nbformat_minor": 4
}
