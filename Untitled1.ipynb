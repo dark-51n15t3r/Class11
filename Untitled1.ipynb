{
 "cells": [
  {
   "cell_type": "code",
   "execution_count": 1,
   "metadata": {},
   "outputs": [
    {
     "name": "stdout",
     "output_type": "stream",
     "text": [
      "enter principal:45500\n",
      "enter time:5\n",
      "enter rate of interest:100\n",
      "simple interest =  227500.0\n"
     ]
    }
   ],
   "source": [
    "p = int(input(\"enter principal:\"))\n",
    "t = int(input(\"enter time:\"))\n",
    "r = int(input(\"enter rate of interest:\"))\n",
    "print('simple interest = ', p*r*t/100)"
   ]
  },
  {
   "cell_type": "code",
   "execution_count": null,
   "metadata": {},
   "outputs": [],
   "source": []
  }
 ],
 "metadata": {
  "kernelspec": {
   "display_name": "Python 3",
   "language": "python",
   "name": "python3"
  },
  "language_info": {
   "codemirror_mode": {
    "name": "ipython",
    "version": 3
   },
   "file_extension": ".py",
   "mimetype": "text/x-python",
   "name": "python",
   "nbconvert_exporter": "python",
   "pygments_lexer": "ipython3",
   "version": "3.8.3"
  }
 },
 "nbformat": 4,
 "nbformat_minor": 4
}
